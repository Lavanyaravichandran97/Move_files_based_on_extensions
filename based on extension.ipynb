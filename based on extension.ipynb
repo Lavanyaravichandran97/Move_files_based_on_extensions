{
 "cells": [
  {
   "cell_type": "code",
   "execution_count": null,
   "metadata": {},
   "outputs": [],
   "source": [
    "import os\n",
    "import shutil\n",
    "from os import path \n",
    "from glob import glob\n",
    "root = '../input/dir' # Directory which contains multiple files with different extensions.\n",
    "exts = set() \n",
    "for file in glob(root + '/**/*.*', recursive=True): \n",
    "    exts.add(path.splitext(file)[-1])\n",
    "    exn=list(exts)\n",
    "print(exn)\n",
    " \n",
    "# create folders based on extensions.\n",
    "for i in exn:\n",
    "    path = \"../input/dir/%s\"%i\n",
    "    \n",
    "    try:\n",
    "        os.mkdir(path)\n",
    "    #except FileExistsError:\n",
    "    except OSError:\n",
    "        print (\"Already exists %s failed\" % path)\n",
    "    else:\n",
    "        print (\"Successfully created the directory %s \" % path)\n",
    "\n",
    "# Move files based on extension.\n",
    "for file in os.listdir(\"../input/dir\"):\n",
    "    for i,j in zip(exn,exn):\n",
    "        if file.endswith(\"%s\"%i):\n",
    "            filename=\"../input/dir/\"+file\n",
    "            shutil.move(filename, \"../input/dir/%s\"%j)\n",
    "print('Moved successfully')"
   ]
  }
 ],
 "metadata": {
  "kernelspec": {
   "display_name": "Python 3",
   "language": "python",
   "name": "python3"
  },
  "language_info": {
   "codemirror_mode": {
    "name": "ipython",
    "version": 3
   },
   "file_extension": ".py",
   "mimetype": "text/x-python",
   "name": "python",
   "nbconvert_exporter": "python",
   "pygments_lexer": "ipython3",
   "version": "3.6.10"
  }
 },
 "nbformat": 4,
 "nbformat_minor": 4
}
